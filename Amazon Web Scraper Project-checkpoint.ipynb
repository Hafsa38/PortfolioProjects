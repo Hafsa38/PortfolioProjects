{
 "cells": [
  {
   "cell_type": "code",
   "execution_count": 1,
   "id": "946f2a24",
   "metadata": {},
   "outputs": [],
   "source": [
    "# import librairies\n",
    "\n",
    "from bs4 import BeautifulSoup\n",
    "import requests\n",
    "import time\n",
    "import datetime\n",
    "\n",
    "import smtplib"
   ]
  },
  {
   "cell_type": "code",
   "execution_count": 6,
   "id": "951d07fa",
   "metadata": {},
   "outputs": [
    {
     "name": "stdout",
     "output_type": "stream",
     "text": [
      "\n",
      "                   Data Analyst T-Shirt for Women, Her, Female, Boss - What's Your Superpower Tee Top - Women Clothing Shirt for Data Analyst\n",
      "                  \n",
      "\n",
      "                      $22.75\n",
      "                     \n"
     ]
    }
   ],
   "source": [
    "#Connect to website\n",
    "\n",
    "URL = 'https://www.amazon.com/Data-Analyst-T-Shirt-Women-Female/dp/B09RSHH1SL/ref=sr_1_1?crid=3J18FI06YDKWA&keywords=data+%2B+analyst%2B+tshirt&qid=1645281428&sprefix=data+%2B+analyst%2B+tshirt%2Caps%2C218&sr=8-1'\n",
    "\n",
    "headers = {\"User-Agent\" :  \"Mozilla/5.0 (Windows NT 10.0; Win64; x64; rv:97.0) Gecko/20100101 Firefox/97.0\"}\n",
    "\n",
    "page = requests.get(URL, headers = headers)\n",
    "\n",
    "soup1 = BeautifulSoup(page.content, \"html.parser\")\n",
    "\n",
    "soup2 = BeautifulSoup(soup1.prettify(), \"html.parser\")\n",
    "\n",
    "\n",
    "title = soup2.find(id =\"productTitle\").get_text()\n",
    "\n",
    "price = soup2.find(class_=\"a-offscreen\").get_text()\n",
    "\n",
    "print(title)                   \n",
    "print(price)\n",
    "\n",
    "\n",
    "\n",
    "\n"
   ]
  },
  {
   "cell_type": "code",
   "execution_count": 7,
   "id": "236d742a",
   "metadata": {},
   "outputs": [
    {
     "name": "stdout",
     "output_type": "stream",
     "text": [
      "Data Analyst T-Shirt for Women, Her, Female, Boss - What's Your Superpower Tee Top - Women Clothing Shirt for Data Analyst\n",
      "22.75\n"
     ]
    }
   ],
   "source": [
    "price = price.strip()[1:]\n",
    "title = title.strip()\n",
    "\n",
    "print(title)                   \n",
    "print(price)"
   ]
  },
  {
   "cell_type": "code",
   "execution_count": 8,
   "id": "d7f7e7b5",
   "metadata": {},
   "outputs": [
    {
     "name": "stdout",
     "output_type": "stream",
     "text": [
      "2022-02-20\n"
     ]
    }
   ],
   "source": [
    "import datetime\n",
    "\n",
    "today = datetime.date.today()\n",
    "\n",
    "print(today)"
   ]
  },
  {
   "cell_type": "code",
   "execution_count": 9,
   "id": "ade023d4",
   "metadata": {},
   "outputs": [],
   "source": [
    "import csv\n",
    "\n",
    "header = [ 'Title',  'Price', 'Date']\n",
    "data = [title, price, today]\n",
    "\n",
    "#type(data)\n",
    "\n",
    "with open('AmazonWebScraperDataset.csv', 'w', newline ='', encoding='UTF8') as f:\n",
    "    writer = csv.writer(f)\n",
    "    writer.writerow(header)\n",
    "    writer.writerow(data)\n"
   ]
  },
  {
   "cell_type": "code",
   "execution_count": 10,
   "id": "3fb23c6e",
   "metadata": {},
   "outputs": [
    {
     "name": "stdout",
     "output_type": "stream",
     "text": [
      "                                               Title  Price        Date\n",
      "0  Data Analyst T-Shirt for Women, Her, Female, B...  22.75  2022-02-20\n"
     ]
    }
   ],
   "source": [
    "import pandas as pd\n",
    "\n",
    "df = pd.read_csv(r'C:\\Users\\hp\\AmazonWebScraperDataset.csv')\n",
    "\n",
    "print(df)"
   ]
  },
  {
   "cell_type": "code",
   "execution_count": 11,
   "id": "d3cb85f2",
   "metadata": {},
   "outputs": [],
   "source": [
    "#Now we are appending data to the csv\n",
    "\n",
    "with open('AmazonWebScraperDataset.csv', 'a+', newline ='', encoding='UTF8') as f:\n",
    "    writer = csv.writer(f)\n",
    "    writer.writerow(data)"
   ]
  },
  {
   "cell_type": "code",
   "execution_count": 12,
   "id": "2db56431",
   "metadata": {},
   "outputs": [],
   "source": [
    "def check_price():\n",
    "    URL = 'https://www.amazon.com/Data-Analyst-T-Shirt-Women-Female/dp/B09RSHH1SL/ref=sr_1_1?crid=3J18FI06YDKWA&keywords=data+%2B+analyst%2B+tshirt&qid=1645281428&sprefix=data+%2B+analyst%2B+tshirt%2Caps%2C218&sr=8-1'\n",
    "\n",
    "    headers = {\"User-Agent\" :  \"Mozilla/5.0 (Windows NT 10.0; Win64; x64; rv:97.0) Gecko/20100101 Firefox/97.0\"}\n",
    "\n",
    "    page = requests.get(URL, headers = headers) \n",
    "\n",
    "    soup1 = BeautifulSoup(page.content, \"html.parser\")\n",
    "\n",
    "    soup2 = BeautifulSoup(soup1.prettify(), \"html.parser\")\n",
    "\n",
    "\n",
    "    title = soup2.find(id =\"productTitle\").get_text()\n",
    "\n",
    "    price = soup2.find(class_=\"a-offscreen\").get_text()\n",
    "    \n",
    "    \n",
    "    price = price.strip()[1:]\n",
    "    title = title.strip()\n",
    "    \n",
    "    import datetime\n",
    "\n",
    "    today = datetime.date.today()\n",
    "    \n",
    "    import csv\n",
    "\n",
    "    header = [ 'Title',  'Price', 'Date']\n",
    "    data = [title, price, today]\n",
    "    \n",
    "    with open('AmazonWebScraperDataset.csv', 'a+', newline ='', encoding='UTF8') as f:\n",
    "        writer = csv.writer(f)\n",
    "        writer.writerow(data)\n"
   ]
  },
  {
   "cell_type": "code",
   "execution_count": 25,
   "id": "4587cc64",
   "metadata": {},
   "outputs": [
    {
     "ename": "KeyboardInterrupt",
     "evalue": "",
     "output_type": "error",
     "traceback": [
      "\u001b[1;31m---------------------------------------------------------------------------\u001b[0m",
      "\u001b[1;31mKeyboardInterrupt\u001b[0m                         Traceback (most recent call last)",
      "\u001b[1;32m<ipython-input-25-41e2022819db>\u001b[0m in \u001b[0;36m<module>\u001b[1;34m\u001b[0m\n\u001b[0;32m      1\u001b[0m \u001b[1;32mwhile\u001b[0m\u001b[1;33m(\u001b[0m\u001b[1;32mTrue\u001b[0m\u001b[1;33m)\u001b[0m\u001b[1;33m:\u001b[0m\u001b[1;33m\u001b[0m\u001b[1;33m\u001b[0m\u001b[0m\n\u001b[0;32m      2\u001b[0m     \u001b[0mcheck_price\u001b[0m\u001b[1;33m(\u001b[0m\u001b[1;33m)\u001b[0m\u001b[1;33m\u001b[0m\u001b[1;33m\u001b[0m\u001b[0m\n\u001b[1;32m----> 3\u001b[1;33m     \u001b[0mtime\u001b[0m\u001b[1;33m.\u001b[0m\u001b[0msleep\u001b[0m\u001b[1;33m(\u001b[0m\u001b[1;36m30\u001b[0m\u001b[1;33m)\u001b[0m \u001b[1;31m#It runs Every Day 86400\u001b[0m\u001b[1;33m\u001b[0m\u001b[1;33m\u001b[0m\u001b[0m\n\u001b[0m",
      "\u001b[1;31mKeyboardInterrupt\u001b[0m: "
     ]
    }
   ],
   "source": [
    "while(True):\n",
    "    check_price()\n",
    "    time.sleep(86400) #It runs Every Day "
   ]
  },
  {
   "cell_type": "code",
   "execution_count": 26,
   "id": "4fa4ca09",
   "metadata": {},
   "outputs": [
    {
     "name": "stdout",
     "output_type": "stream",
     "text": [
      "                                               Title  Price        Date\n",
      "0  Data Analyst T-Shirt for Women, Her, Female, B...  22.75  2022-02-20\n",
      "1  Data Analyst T-Shirt for Women, Her, Female, B...  22.75  2022-02-20\n",
      "2  Data Analyst T-Shirt for Women, Her, Female, B...  22.75  2022-02-20\n",
      "3  Data Analyst T-Shirt for Women, Her, Female, B...  22.75  2022-02-20\n",
      "4  Data Analyst T-Shirt for Women, Her, Female, B...  22.75  2022-02-20\n"
     ]
    }
   ],
   "source": [
    "import pandas as pd\n",
    "\n",
    "df = pd.read_csv(r'C:\\Users\\hp\\AmazonWebScraperDataset.csv')\n",
    "\n",
    "print(df)"
   ]
  },
  {
   "cell_type": "code",
   "execution_count": null,
   "id": "a0b4eeba",
   "metadata": {},
   "outputs": [],
   "source": [
    "def send_mail():\n",
    "    server = smtplib.SMTP_SSL('smtp.gmail.com',465)\n",
    "    server.ehlo()\n",
    "    #server.starttls()\n",
    "    server.ehlo()\n",
    "    server.login('benhamzahafsa@gmail.com','xxxxxxxxxxxx')\n",
    "    \n",
    "    subject = \"The shirt you want is below $15!\"\n",
    "    body = \"Hafsa, This is the moment we have been waiting for..Now is your chance to pick up the shirt of your dreams\"\n",
    "    \n",
    "    msg = f\"subject: {subject}\\n\\n{body}\"\n",
    "    \n",
    "    server.sendmail(\n",
    "    'benhamzahafsa@gmail.com',\n",
    "    msg\n",
    "    \n",
    "    )"
   ]
  }
 ],
 "metadata": {
  "kernelspec": {
   "display_name": "Python 3",
   "language": "python",
   "name": "python3"
  },
  "language_info": {
   "codemirror_mode": {
    "name": "ipython",
    "version": 3
   },
   "file_extension": ".py",
   "mimetype": "text/x-python",
   "name": "python",
   "nbconvert_exporter": "python",
   "pygments_lexer": "ipython3",
   "version": "3.8.8"
  }
 },
 "nbformat": 4,
 "nbformat_minor": 5
}
